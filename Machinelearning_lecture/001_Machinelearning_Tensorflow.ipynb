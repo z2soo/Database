{
 "cells": [
  {
   "cell_type": "code",
   "execution_count": 2,
   "metadata": {},
   "outputs": [
    {
     "name": "stdout",
     "output_type": "stream",
     "text": [
      "b'Hello World!'\n",
      "Hello World!\n"
     ]
    }
   ],
   "source": [
    "# Tensorflow\n",
    "# 다른 package, module에 비해서 살짝 특이한 형태의 library\n",
    "# Tensorflow는 3가지 구성요소로 이해하면 쉬워요!\n",
    "# 1. Node : 수학적인 연산을 담당, 데이터의 입출력을 담당\n",
    "# 2. edge : 동적 데이터를 node로 실어 나르는 역할을 담당\n",
    "# 3. Tensor : 다차원 배열 형태의 동적 데이터\n",
    "# (어떤 점이 다른 library랑 가장 크게 다른 특징이라구..?)\n",
    "\n",
    "\n",
    "import tensorflow as tf\n",
    "\n",
    "node1 = tf.constant(\"Hello World!\")\n",
    "\n",
    "## graph를 실행시키기 위해서는 runner가 필요\n",
    "## session이라고 불리는 runner를 생성해요!\n",
    "sess = tf.Session()\n",
    "sess.run(node1)\n",
    "print(sess.run(node1))\n",
    "# b'Hello World!' : 앞의 b는 바이트 스트링이라는 의미\n",
    "print(sess.run(node1).decode())\n"
   ]
  },
  {
   "cell_type": "code",
   "execution_count": 3,
   "metadata": {},
   "outputs": [
    {
     "name": "stdout",
     "output_type": "stream",
     "text": [
      "[10.0, 30.0]\n"
     ]
    }
   ],
   "source": [
    "# 2개의 값을 더하는  tensorflow graph를 생성하고 실행시켜서 값을 구해보아요!\n",
    "import tensorflow as tf\n",
    "node1 = tf.constant(10, dtype=tf.float32)\n",
    "node2 = tf.constant(20, dtype=tf.float32)\n",
    "\n",
    "node3 = node1 + node2\n",
    "\n",
    "sess = tf.Session()\n",
    "print(sess.run([node1,node3]))\n"
   ]
  },
  {
   "cell_type": "code",
   "execution_count": 27,
   "metadata": {},
   "outputs": [
    {
     "name": "stdout",
     "output_type": "stream",
     "text": [
      "20\n",
      "30\n",
      "덧셈결과 : 50.0\n"
     ]
    }
   ],
   "source": [
    "# 실행시키는 시점에 이미 각 노드의 값이 결정되어 있어요\n",
    "# constant(상수이기 떄문에)\n",
    "# 만약 실행시키는 시점에 각 노드의 값을 결정해서 실행시키려면 어떻게 해야할까요?(값을 고정X)\n",
    "import tensorflow as tf\n",
    "\n",
    "node1 = tf.placeholder(dtype=tf.float32)\n",
    "node2 = tf.placeholder(dtype=tf.float32)\n",
    "\n",
    "node3 = node1 + node2\n",
    "\n",
    "sess = tf.Session()\n",
    "\n",
    "result = sess.run(node3,\n",
    "                  feed_dict={node1 : input(),\n",
    "                             node2 : input()})\n",
    "\n",
    "print(\"덧셈결과 : {}\".format(result))\n",
    "\n",
    "# Tensorflow는 수학적 연산을 위한 그래프\n",
    "# 문자형 데이터는 거의 활용되지 않고 숫자형 데이터가 활용된다\n"
   ]
  },
  {
   "cell_type": "code",
   "execution_count": 18,
   "metadata": {},
   "outputs": [
    {
     "name": "stdout",
     "output_type": "stream",
     "text": [
      "w값 : [0.2700814],b값 : [0.7953741], cost값 : 19.50411033630371\n",
      "w값 : [1.9003886],b값 : [1.2264401], cost값 : 0.007391196209937334\n",
      "w값 : [1.9516132],b값 : [1.1099946], cost값 : 0.001744021545164287\n",
      "w값 : [1.976496],b값 : [1.05343], cost값 : 0.0004115091578569263\n",
      "w값 : [1.9885828],b값 : [1.0259538], cost값 : 9.71001572906971e-05\n",
      "w값 : [1.994454],b값 : [1.0126071], cost값 : 2.2910193365532905e-05\n",
      "w값 : [1.9973059],b값 : [1.0061241], cost값 : 5.406429409049451e-06\n",
      "w값 : [1.9986911],b값 : [1.0029756], cost값 : 1.276287889595551e-06\n",
      "w값 : [1.9993634],b값 : [1.0014468], cost값 : 3.0180899557308294e-07\n",
      "w값 : [1.9996899],b값 : [1.0007044], cost값 : 7.148977232418474e-08\n",
      "[400.96988]\n"
     ]
    }
   ],
   "source": [
    "# linear \n",
    "## 구현해 보아요!\n",
    "\n",
    "# 1. 필요한 module을 import\n",
    "import tensorflow as tf\n",
    "\n",
    "# 2. trainiing data set 지정\n",
    "x_data = [1,2,3]\n",
    "y_data = [3,5,7]\n",
    "\n",
    "# 3. placeholder( Tensorflow그래프에 입력을 주기위한 파라미터 역할 )\n",
    "x = tf.placeholder(dtype=tf.float32)\n",
    "y = tf.placeholder(dtype=tf.float32)\n",
    "\n",
    "# 4. Weight, bias\n",
    "W = tf.Variable(tf.random_normal([1]), name=\"weight\")\n",
    "b = tf.Variable(tf.random_normal([1]), name=\"bias\")\n",
    "\n",
    "# 5. 가설(Hypothesis)\n",
    "H = W * x + b\n",
    "\n",
    "# 6. Cost Function(Loss function)\n",
    "# 가설에서 y 값을 빼고 그 값을 제곱해서 평균을 구해요!\n",
    "cost = tf.reduce_mean(tf.square(H-y))\n",
    "\n",
    "# 7. track node를 생성\n",
    "optimizer=tf.train.GradientDescentOptimizer(learning_rate=0.01) # 공식이다!\n",
    "# 경사조정하는 기능\n",
    "train = optimizer.minimize(cost)\n",
    "# 트레인은 접선의 기울기가 가장 작을 때의 cost값\n",
    "\n",
    "# 8. 그래프를 실행시키기 위해서 runner(session)\n",
    "# 그리고 Variable릏 사용하면 학습하기 전에 반드시 초기화를 해야해요\n",
    "\n",
    "sess = tf.Session()\n",
    "sess.run(tf.global_variables_initializer()) # 초기화\n",
    "\n",
    "# 9. learning작업(학습)\n",
    "for step in range(3000):\n",
    "    _, w_val, cost_val, b_val = sess.run([train,W,cost,b],\n",
    "                                         # _ : train으로부터 얻은 값은 사용하지 않겠다\n",
    "                                         # W와 b는 값 알아내기 위해 실행시키는 것\n",
    "                                       feed_dict={\n",
    "                                           x : x_data,\n",
    "                                           y : y_data\n",
    "                                       })\n",
    "    if step % 300 ==0:\n",
    "        print(\"w값 : {},b값 : {}, cost값 : {}\".format(w_val,\n",
    "                                                   b_val,\n",
    "                                                   cost_val))\n",
    "\n",
    "# 학습이 끝났어요! => 최적의 W와 b값을 찾아내서 H를 만들었어요\n",
    "# prediction\n",
    "print(sess.run(H, feed_dict = {x: 200}))"
   ]
  },
  {
   "cell_type": "code",
   "execution_count": 37,
   "metadata": {},
   "outputs": [
    {
     "name": "stdout",
     "output_type": "stream",
     "text": [
      "     Ozone  Temp\n",
      "0     41.0    67\n",
      "1     36.0    72\n",
      "2     12.0    74\n",
      "3     18.0    62\n",
      "4      NaN    56\n",
      "..     ...   ...\n",
      "148   30.0    70\n",
      "149    NaN    77\n",
      "150   14.0    75\n",
      "151   18.0    76\n",
      "152   20.0    68\n",
      "\n",
      "[153 rows x 2 columns]\n"
     ]
    },
    {
     "data": {
      "text/html": [
       "<div>\n",
       "<style scoped>\n",
       "    .dataframe tbody tr th:only-of-type {\n",
       "        vertical-align: middle;\n",
       "    }\n",
       "\n",
       "    .dataframe tbody tr th {\n",
       "        vertical-align: top;\n",
       "    }\n",
       "\n",
       "    .dataframe thead th {\n",
       "        text-align: right;\n",
       "    }\n",
       "</style>\n",
       "<table border=\"1\" class=\"dataframe\">\n",
       "  <thead>\n",
       "    <tr style=\"text-align: right;\">\n",
       "      <th></th>\n",
       "      <th>Ozone</th>\n",
       "      <th>Temp</th>\n",
       "    </tr>\n",
       "  </thead>\n",
       "  <tbody>\n",
       "    <tr>\n",
       "      <th>0</th>\n",
       "      <td>41.0</td>\n",
       "      <td>67</td>\n",
       "    </tr>\n",
       "    <tr>\n",
       "      <th>1</th>\n",
       "      <td>36.0</td>\n",
       "      <td>72</td>\n",
       "    </tr>\n",
       "    <tr>\n",
       "      <th>2</th>\n",
       "      <td>12.0</td>\n",
       "      <td>74</td>\n",
       "    </tr>\n",
       "    <tr>\n",
       "      <th>3</th>\n",
       "      <td>18.0</td>\n",
       "      <td>62</td>\n",
       "    </tr>\n",
       "    <tr>\n",
       "      <th>5</th>\n",
       "      <td>28.0</td>\n",
       "      <td>66</td>\n",
       "    </tr>\n",
       "    <tr>\n",
       "      <th>...</th>\n",
       "      <td>...</td>\n",
       "      <td>...</td>\n",
       "    </tr>\n",
       "    <tr>\n",
       "      <th>147</th>\n",
       "      <td>14.0</td>\n",
       "      <td>63</td>\n",
       "    </tr>\n",
       "    <tr>\n",
       "      <th>148</th>\n",
       "      <td>30.0</td>\n",
       "      <td>70</td>\n",
       "    </tr>\n",
       "    <tr>\n",
       "      <th>150</th>\n",
       "      <td>14.0</td>\n",
       "      <td>75</td>\n",
       "    </tr>\n",
       "    <tr>\n",
       "      <th>151</th>\n",
       "      <td>18.0</td>\n",
       "      <td>76</td>\n",
       "    </tr>\n",
       "    <tr>\n",
       "      <th>152</th>\n",
       "      <td>20.0</td>\n",
       "      <td>68</td>\n",
       "    </tr>\n",
       "  </tbody>\n",
       "</table>\n",
       "<p>116 rows × 2 columns</p>\n",
       "</div>"
      ],
      "text/plain": [
       "     Ozone  Temp\n",
       "0     41.0    67\n",
       "1     36.0    72\n",
       "2     12.0    74\n",
       "3     18.0    62\n",
       "5     28.0    66\n",
       "..     ...   ...\n",
       "147   14.0    63\n",
       "148   30.0    70\n",
       "150   14.0    75\n",
       "151   18.0    76\n",
       "152   20.0    68\n",
       "\n",
       "[116 rows x 2 columns]"
      ]
     },
     "metadata": {},
     "output_type": "display_data"
    },
    {
     "data": {
      "text/html": [
       "<div>\n",
       "<style scoped>\n",
       "    .dataframe tbody tr th:only-of-type {\n",
       "        vertical-align: middle;\n",
       "    }\n",
       "\n",
       "    .dataframe tbody tr th {\n",
       "        vertical-align: top;\n",
       "    }\n",
       "\n",
       "    .dataframe thead th {\n",
       "        text-align: right;\n",
       "    }\n",
       "</style>\n",
       "<table border=\"1\" class=\"dataframe\">\n",
       "  <thead>\n",
       "    <tr style=\"text-align: right;\">\n",
       "      <th></th>\n",
       "      <th>Ozone</th>\n",
       "      <th>Temp</th>\n",
       "    </tr>\n",
       "  </thead>\n",
       "  <tbody>\n",
       "    <tr>\n",
       "      <th>0</th>\n",
       "      <td>41.0</td>\n",
       "      <td>67</td>\n",
       "    </tr>\n",
       "    <tr>\n",
       "      <th>1</th>\n",
       "      <td>36.0</td>\n",
       "      <td>72</td>\n",
       "    </tr>\n",
       "    <tr>\n",
       "      <th>2</th>\n",
       "      <td>12.0</td>\n",
       "      <td>74</td>\n",
       "    </tr>\n",
       "    <tr>\n",
       "      <th>3</th>\n",
       "      <td>18.0</td>\n",
       "      <td>62</td>\n",
       "    </tr>\n",
       "    <tr>\n",
       "      <th>5</th>\n",
       "      <td>28.0</td>\n",
       "      <td>66</td>\n",
       "    </tr>\n",
       "    <tr>\n",
       "      <th>...</th>\n",
       "      <td>...</td>\n",
       "      <td>...</td>\n",
       "    </tr>\n",
       "    <tr>\n",
       "      <th>147</th>\n",
       "      <td>14.0</td>\n",
       "      <td>63</td>\n",
       "    </tr>\n",
       "    <tr>\n",
       "      <th>148</th>\n",
       "      <td>30.0</td>\n",
       "      <td>70</td>\n",
       "    </tr>\n",
       "    <tr>\n",
       "      <th>150</th>\n",
       "      <td>14.0</td>\n",
       "      <td>75</td>\n",
       "    </tr>\n",
       "    <tr>\n",
       "      <th>151</th>\n",
       "      <td>18.0</td>\n",
       "      <td>76</td>\n",
       "    </tr>\n",
       "    <tr>\n",
       "      <th>152</th>\n",
       "      <td>20.0</td>\n",
       "      <td>68</td>\n",
       "    </tr>\n",
       "  </tbody>\n",
       "</table>\n",
       "<p>114 rows × 2 columns</p>\n",
       "</div>"
      ],
      "text/plain": [
       "     Ozone  Temp\n",
       "0     41.0    67\n",
       "1     36.0    72\n",
       "2     12.0    74\n",
       "3     18.0    62\n",
       "5     28.0    66\n",
       "..     ...   ...\n",
       "147   14.0    63\n",
       "148   30.0    70\n",
       "150   14.0    75\n",
       "151   18.0    76\n",
       "152   20.0    68\n",
       "\n",
       "[114 rows x 2 columns]"
      ]
     },
     "metadata": {},
     "output_type": "display_data"
    },
    {
     "data": {
      "text/plain": [
       "<matplotlib.axes._subplots.AxesSubplot at 0x1259cf8d0b8>"
      ]
     },
     "execution_count": 37,
     "metadata": {},
     "output_type": "execute_result"
    },
    {
     "data": {
      "image/png": "[encoded data removed]",
      "text/plain": [
       "<Figure size 432x288 with 1 Axes>"
      ]
     },
     "metadata": {
      "needs_background": "light"
     },
     "output_type": "display_data"
    }
   ],
   "source": [
    "import numpy as np\n",
    "import pandas as pd\n",
    "\n",
    "df = pd.read_csv(\"./data/ozone.csv\")\n",
    "\n",
    "ozone_df = pd.DataFrame(df,\n",
    "                       columns=[\"Ozone\",\"Temp\"])\n",
    "\n",
    "print(ozone_df)\n",
    "new_ozone = ozone_df.dropna(how=\"any\", inplace =False)\n",
    "\n",
    "display(new_ozone)\n",
    "# new_ozone.boxplot()\n",
    "\n",
    "answer_df = new_ozone.loc[new_ozone['Ozone'] < 125.0,['Ozone','Temp']]\n",
    "\n",
    "display(answer_df)\n",
    "answer_df.boxplot()"
   ]
  },
  {
   "cell_type": "code",
   "execution_count": 40,
   "metadata": {},
   "outputs": [],
   "source": [
    "## 온도에 따른 Ozone 데이터를 학습한 후 Prediction까지 진행\n",
    "import tensorflow as tf\n",
    "import numpy as np\n",
    "import pandas as pd\n",
    "import matplotlib.pyplot as plt\n"
   ]
  },
  {
   "cell_type": "code",
   "execution_count": 55,
   "metadata": {},
   "outputs": [
    {
     "name": "stdout",
     "output_type": "stream",
     "text": [
      "읽어들인 데이터의 shape : (153, 6)\n"
     ]
    },
    {
     "data": {
      "text/html": [
       "<div>\n",
       "<style scoped>\n",
       "    .dataframe tbody tr th:only-of-type {\n",
       "        vertical-align: middle;\n",
       "    }\n",
       "\n",
       "    .dataframe tbody tr th {\n",
       "        vertical-align: top;\n",
       "    }\n",
       "\n",
       "    .dataframe thead th {\n",
       "        text-align: right;\n",
       "    }\n",
       "</style>\n",
       "<table border=\"1\" class=\"dataframe\">\n",
       "  <thead>\n",
       "    <tr style=\"text-align: right;\">\n",
       "      <th></th>\n",
       "      <th>Ozone</th>\n",
       "      <th>Temp</th>\n",
       "    </tr>\n",
       "  </thead>\n",
       "  <tbody>\n",
       "    <tr>\n",
       "      <th>0</th>\n",
       "      <td>41.0</td>\n",
       "      <td>67</td>\n",
       "    </tr>\n",
       "    <tr>\n",
       "      <th>1</th>\n",
       "      <td>36.0</td>\n",
       "      <td>72</td>\n",
       "    </tr>\n",
       "    <tr>\n",
       "      <th>2</th>\n",
       "      <td>12.0</td>\n",
       "      <td>74</td>\n",
       "    </tr>\n",
       "    <tr>\n",
       "      <th>3</th>\n",
       "      <td>18.0</td>\n",
       "      <td>62</td>\n",
       "    </tr>\n",
       "    <tr>\n",
       "      <th>4</th>\n",
       "      <td>NaN</td>\n",
       "      <td>56</td>\n",
       "    </tr>\n",
       "    <tr>\n",
       "      <th>...</th>\n",
       "      <td>...</td>\n",
       "      <td>...</td>\n",
       "    </tr>\n",
       "    <tr>\n",
       "      <th>148</th>\n",
       "      <td>30.0</td>\n",
       "      <td>70</td>\n",
       "    </tr>\n",
       "    <tr>\n",
       "      <th>149</th>\n",
       "      <td>NaN</td>\n",
       "      <td>77</td>\n",
       "    </tr>\n",
       "    <tr>\n",
       "      <th>150</th>\n",
       "      <td>14.0</td>\n",
       "      <td>75</td>\n",
       "    </tr>\n",
       "    <tr>\n",
       "      <th>151</th>\n",
       "      <td>18.0</td>\n",
       "      <td>76</td>\n",
       "    </tr>\n",
       "    <tr>\n",
       "      <th>152</th>\n",
       "      <td>20.0</td>\n",
       "      <td>68</td>\n",
       "    </tr>\n",
       "  </tbody>\n",
       "</table>\n",
       "<p>153 rows × 2 columns</p>\n",
       "</div>"
      ],
      "text/plain": [
       "     Ozone  Temp\n",
       "0     41.0    67\n",
       "1     36.0    72\n",
       "2     12.0    74\n",
       "3     18.0    62\n",
       "4      NaN    56\n",
       "..     ...   ...\n",
       "148   30.0    70\n",
       "149    NaN    77\n",
       "150   14.0    75\n",
       "151   18.0    76\n",
       "152   20.0    68\n",
       "\n",
       "[153 rows x 2 columns]"
      ]
     },
     "metadata": {},
     "output_type": "display_data"
    },
    {
     "name": "stdout",
     "output_type": "stream",
     "text": [
      "결측치를 제거한 후 남은 데이터 : (116, 2)\n"
     ]
    }
   ],
   "source": [
    "# data loading\n",
    "# 학습데이터를 확보해서 전처리 과정을 거쳐야해요!\n",
    "df = pd.read_csv(\"./data/ozone.csv\")\n",
    "df.head()\n",
    "print(\"읽어들인 데이터의 shape : {}\".format(df.shape))\n",
    "\n",
    "# 결측치 제거 시 다른 column에 의해서 너무 많은 행이 제거되는걸 방지하기 위해\n",
    "# 필요한 column만 추출\n",
    "df = df[[\"Ozone\",\"Temp\"]]\n",
    "display(df)\n",
    "\n",
    "# 결측치를 제거(dropna()이용)\n",
    "# 결측치를 찾아서 지우고 그 지운 data frame을 리턴\n",
    "df = df.dropna(how=\"any\",inplace=False)\n",
    "print(\"결측치를 제거한 후 남은 데이터 : {}\".format(df.shape))\n",
    "    \n",
    "# 여기까지, 데이터 읽어들여서 결측치 처리 작업 완료"
   ]
  },
  {
   "cell_type": "code",
   "execution_count": 100,
   "metadata": {},
   "outputs": [
    {
     "name": "stdout",
     "output_type": "stream",
     "text": [
      "이상치를 제거한 후 남은 데이터 : (114, 2)\n"
     ]
    }
   ],
   "source": [
    "# 이번에는 이상치를 찾아서 제거해보아요!\n",
    "# 각 column에(온도와 오존) 대해서 boxplot그려보아요\n",
    "# plt.boxplot(df[\"Temp\"]) # 온도는 이상치가 존재하지 않아요\n",
    "# plt.boxplot(df[\"Ozone\"]) # 오존에는 이상치가 존재해요\n",
    "\n",
    "# 이상치를 찾기 위해서 Tukey Fence방식을 이용(IQR 방식 이용)\n",
    "# IQR 값은 3사분위 값 - 1사분위 값을 계산해서 구한다!\n",
    "# 만약 (3사분위 값 + IQR * 1.5)을 초과하는 값이 존재하면 이상치\n",
    "# 만약 (1사분위 값 - IQR * 1.5) 미만의 값이 존재하면 이상치\n",
    "\n",
    "q1,q3 = np.percentile(df[\"Ozone\"],[25,75])\n",
    "\n",
    "iqr = q3 - q1\n",
    "upper = q3 + iqr * 1.5\n",
    "mask = df[\"Ozone\"] > upper   # mask\n",
    "df = df.loc[~mask]                # ~ : not의 의미\n",
    "print(\"이상치를 제거한 후 남은 데이터 : {}\".format(df.shape))\n",
    "# print(upper)\n"
   ]
  },
  {
   "cell_type": "code",
   "execution_count": 77,
   "metadata": {
    "scrolled": true
   },
   "outputs": [
    {
     "data": {
      "text/plain": [
       "<matplotlib.collections.PathCollection at 0x1259da48128>"
      ]
     },
     "execution_count": 77,
     "metadata": {},
     "output_type": "execute_result"
    },
    {
     "data": {
      "image/png": "[encoded data removed]",
      "text/plain": [
       "<Figure size 432x288 with 1 Axes>"
      ]
     },
     "metadata": {
      "needs_background": "light"
     },
     "output_type": "display_data"
    }
   ],
   "source": [
    "# linear regression을 하기 전에 데이터의 경향성을 확인\n",
    "# 산점도(scatter)를 이용해서 데이터의 경향성을 확인해보아요!\n",
    "plt.scatter(df[\"Temp\"],df[\"Ozone\"])"
   ]
  },
  {
   "cell_type": "code",
   "execution_count": 134,
   "metadata": {},
   "outputs": [
    {
     "name": "stdout",
     "output_type": "stream",
     "text": [
      "cost 값은 : 4506.60400390625\n",
      "cost 값은 : nan\n",
      "cost 값은 : nan\n",
      "cost 값은 : nan\n",
      "cost 값은 : nan\n",
      "cost 값은 : nan\n",
      "cost 값은 : nan\n",
      "cost 값은 : nan\n",
      "cost 값은 : nan\n",
      "cost 값은 : nan\n"
     ]
    }
   ],
   "source": [
    "# linear regression\n",
    "# 1. training data set 준비\n",
    "x_data = df[\"Temp\"]\n",
    "y_data = df[\"Ozone\"]\n",
    "\n",
    "# 2. 입력을 받아들이는 node인 placeholder를 정의\n",
    "x = tf.placeholder(dtype=tf.float32)\n",
    "y = tf.placeholder(dtype=tf.float32)\n",
    "\n",
    "# 3. Weight, bias를 정의\n",
    "W = tf.Variable(tf.random_normal([1]),name='weight')\n",
    "b = tf.Variable(tf.random_normal([1]),name='bias')\n",
    "\n",
    "# 4. 가설(H) 정의\n",
    "H = W * x + b\n",
    "\n",
    "# 5. 비용함수(Cost Function) 정의\n",
    "cost = tf.reduce_mean(tf.square(H-y))\n",
    "\n",
    "# 6. train (optimize 최소의 cost값을 찾아내는 과정(=>미분))\n",
    "optimize = tf.train.GradientDescentOptimizer(learning_rate = 0.0000001)\n",
    "train = optimizer.minimize(cost)\n",
    "\n",
    "# 7. session, 초기화 작업 (학습할 준비 완료. session필요!)\n",
    "sess = tf.Session() # 그래프를 실행시키기 위해 필요!\n",
    "sess.run(tf.global_variables_initializer())\n",
    "\n",
    "# 8. 학습\n",
    "for step in range(3000):\n",
    "    _, cost_val = sess.run([train,cost],\n",
    "                           feed_dict = {x: x_data,\n",
    "                                        y: y_data})\n",
    "    if step % 300 == 0:\n",
    "        print(\"cost 값은 : {}\".format(cost_val))\n",
    "\n"
   ]
  },
  {
   "cell_type": "code",
   "execution_count": 114,
   "metadata": {},
   "outputs": [
    {
     "data": {
      "text/plain": [
       "<matplotlib.collections.PathCollection at 0x1259fe52e10>"
      ]
     },
     "execution_count": 114,
     "metadata": {},
     "output_type": "execute_result"
    },
    {
     "data": {
      "image/png": "[encoded data removed]",
      "text/plain": [
       "<Figure size 432x288 with 1 Axes>"
      ]
     },
     "metadata": {
      "needs_background": "light"
     },
     "output_type": "display_data"
    }
   ],
   "source": [
    "# 정제된 데이터를 정규화나 표준화를 이용해서 값의 범위를 조절해야 해요!\n",
    "# => 그래야 학습이 정상적으로 이뤄질 수 있어요!\n",
    "# 데이터를 표준화 방식으로 다시 만들어서 학습을 진행\n",
    "# Normalization(표준화)\n",
    "# 각 데이터를 다음과 같은 방식으로 비율적으로 축소시키는 방식\n",
    "# 각 요소의 값 => (요소값 - 전체데이터의 최소값)/\n",
    "#                (전체데이터의 최대값 - 전체데이터의 최소값)\n",
    "\n",
    "df[\"Temp_Norm\"]=(df[\"Temp\"] - df[\"Temp\"].min()) /(df[\"Temp\"].max() - df[\"Temp\"].min())\n",
    "df[\"Ozone_Norm\"]=(df[\"Ozone\"] - df[\"Ozone\"].min()) /(df[\"Ozone\"].max() - df[\"Ozone\"].min())\n",
    "# 확인작업\n",
    "# plt.scatter(df[\"Temp\"],df[\"Ozone\"])\n",
    "plt.scatter(df[\"Temp_Norm\"],df[\"Ozone_Norm\"])\n",
    "# (단위만 줄어들었을 뿐 산점도 모습은 동일하다!!!)\n",
    "\n"
   ]
  },
  {
   "cell_type": "code",
   "execution_count": 143,
   "metadata": {
    "scrolled": true
   },
   "outputs": [
    {
     "name": "stdout",
     "output_type": "stream",
     "text": [
      "cost 값은 : 1.321845293045044\n",
      "cost 값은 : 0.02945268154144287\n",
      "cost 값은 : 0.02809273451566696\n",
      "cost 값은 : 0.027291199192404747\n",
      "cost 값은 : 0.026818716898560524\n",
      "cost 값은 : 0.026540206745266914\n",
      "cost 값은 : 0.02637602388858795\n",
      "cost 값은 : 0.02627924270927906\n",
      "cost 값은 : 0.026222193613648415\n",
      "cost 값은 : 0.0261885654181242\n"
     ]
    }
   ],
   "source": [
    "# linear regression\n",
    "# 1. training data set 준비\n",
    "x_data = df[\"Temp_Norm\"]\n",
    "y_data = df[\"Ozone_Norm\"]\n",
    "\n",
    "# 2. 입력을 받아들이는 node인 placeholder를 정의\n",
    "x = tf.placeholder(dtype=tf.float32)\n",
    "y = tf.placeholder(dtype=tf.float32)\n",
    "\n",
    "# 3. Weight, bias를 정의\n",
    "W = tf.Variable(tf.random_normal([1]),name='weight')\n",
    "b = tf.Variable(tf.random_normal([1]),name='bias')\n",
    "\n",
    "# 4. 가설(H) 정의\n",
    "H = W * x + b\n",
    "\n",
    "# 5. 비용함수(Cost Function) 정의\n",
    "cost = tf.reduce_mean(tf.square(H-y))\n",
    "\n",
    "# 6. train (optimize 최소의 cost값을 찾아내는 과정(=>미분))\n",
    "optimize = tf.train.GradientDescentOptimizer(learning_rate = 0.001)\n",
    "train = optimizer.minimize(cost)\n",
    "\n",
    "# 7. session, 초기화 작업 (학습할 준비 완료. session필요!)\n",
    "sess = tf.Session() # 그래프를 실행시키기 위해 필요!\n",
    "sess.run(tf.global_variables_initializer())\n",
    "\n",
    "# 8. 학습\n",
    "for step in range(3000):\n",
    "    _, cost_val = sess.run([train,cost],\n",
    "                           feed_dict = {x: x_data,\n",
    "                                        y: y_data})\n",
    "    if step % 300 == 0:\n",
    "        print(\"cost 값은 : {}\".format(cost_val))\n",
    "\n"
   ]
  },
  {
   "cell_type": "code",
   "execution_count": 145,
   "metadata": {},
   "outputs": [
    {
     "data": {
      "text/plain": [
       "[<matplotlib.lines.Line2D at 0x125a4b36080>]"
      ]
     },
     "execution_count": 145,
     "metadata": {},
     "output_type": "execute_result"
    },
    {
     "data": {
      "image/png": "[encoded data removed]",
      "text/plain": [
       "<Figure size 432x288 with 1 Axes>"
      ]
     },
     "metadata": {
      "needs_background": "light"
     },
     "output_type": "display_data"
    }
   ],
   "source": [
    "# 학습이 종료된 후 최종적으로 얻은 W와 b의 값을 이용하여\n",
    "# line graph를 산점도와 함께 그려보아요!\n",
    "plt.scatter(df[\"Temp_Norm\"], df[\"Ozone_Norm\"])\n",
    "plt.plot(df[\"Temp_Norm\"], df[\"Temp_Norm\"] * sess.run(W) + sess.run(b))"
   ]
  },
  {
   "cell_type": "code",
   "execution_count": 168,
   "metadata": {},
   "outputs": [
    {
     "name": "stdout",
     "output_type": "stream",
     "text": [
      "[0.38752776]\n",
      "[47.890858]\n"
     ]
    }
   ],
   "source": [
    "# 학습이 끝났으니.. Prediction을 해보아요!\n",
    "# 화씨 62도에서 오존량을 예측해 보아요\n",
    "tmp = (81 - df[\"Temp\"].min())/(df[\"Temp\"].max()-df[\"Temp\"].min())\n",
    "result_norm = sess.run(H,feed_dict={x:tmp})\n",
    "print(result_norm)\n",
    "result = result_norm * (df[\"Ozone\"].max()-df[\"Ozone\"].min()) + df[\"Ozone\"].min()\n",
    "print(result)"
   ]
  },
  {
   "cell_type": "code",
   "execution_count": 26,
   "metadata": {},
   "outputs": [
    {
     "data": {
      "text/html": [
       "<div>\n",
       "<style scoped>\n",
       "    .dataframe tbody tr th:only-of-type {\n",
       "        vertical-align: middle;\n",
       "    }\n",
       "\n",
       "    .dataframe tbody tr th {\n",
       "        vertical-align: top;\n",
       "    }\n",
       "\n",
       "    .dataframe thead th {\n",
       "        text-align: right;\n",
       "    }\n",
       "</style>\n",
       "<table border=\"1\" class=\"dataframe\">\n",
       "  <thead>\n",
       "    <tr style=\"text-align: right;\">\n",
       "      <th></th>\n",
       "      <th>Ozone</th>\n",
       "      <th>Temp</th>\n",
       "    </tr>\n",
       "  </thead>\n",
       "  <tbody>\n",
       "    <tr>\n",
       "      <th>0</th>\n",
       "      <td>41.0</td>\n",
       "      <td>67</td>\n",
       "    </tr>\n",
       "    <tr>\n",
       "      <th>1</th>\n",
       "      <td>36.0</td>\n",
       "      <td>72</td>\n",
       "    </tr>\n",
       "    <tr>\n",
       "      <th>2</th>\n",
       "      <td>12.0</td>\n",
       "      <td>74</td>\n",
       "    </tr>\n",
       "    <tr>\n",
       "      <th>3</th>\n",
       "      <td>18.0</td>\n",
       "      <td>62</td>\n",
       "    </tr>\n",
       "    <tr>\n",
       "      <th>4</th>\n",
       "      <td>NaN</td>\n",
       "      <td>56</td>\n",
       "    </tr>\n",
       "    <tr>\n",
       "      <th>...</th>\n",
       "      <td>...</td>\n",
       "      <td>...</td>\n",
       "    </tr>\n",
       "    <tr>\n",
       "      <th>148</th>\n",
       "      <td>30.0</td>\n",
       "      <td>70</td>\n",
       "    </tr>\n",
       "    <tr>\n",
       "      <th>149</th>\n",
       "      <td>NaN</td>\n",
       "      <td>77</td>\n",
       "    </tr>\n",
       "    <tr>\n",
       "      <th>150</th>\n",
       "      <td>14.0</td>\n",
       "      <td>75</td>\n",
       "    </tr>\n",
       "    <tr>\n",
       "      <th>151</th>\n",
       "      <td>18.0</td>\n",
       "      <td>76</td>\n",
       "    </tr>\n",
       "    <tr>\n",
       "      <th>152</th>\n",
       "      <td>20.0</td>\n",
       "      <td>68</td>\n",
       "    </tr>\n",
       "  </tbody>\n",
       "</table>\n",
       "<p>153 rows × 2 columns</p>\n",
       "</div>"
      ],
      "text/plain": [
       "     Ozone  Temp\n",
       "0     41.0    67\n",
       "1     36.0    72\n",
       "2     12.0    74\n",
       "3     18.0    62\n",
       "4      NaN    56\n",
       "..     ...   ...\n",
       "148   30.0    70\n",
       "149    NaN    77\n",
       "150   14.0    75\n",
       "151   18.0    76\n",
       "152   20.0    68\n",
       "\n",
       "[153 rows x 2 columns]"
      ]
     },
     "metadata": {},
     "output_type": "display_data"
    },
    {
     "name": "stderr",
     "output_type": "stream",
     "text": [
      "C:\\Users\\student\\Anaconda3\\envs\\cpu_env\\lib\\site-packages\\matplotlib\\cbook\\__init__.py:1316: RuntimeWarning: invalid value encountered in less_equal\n",
      "  wiskhi = x[x <= hival]\n",
      "C:\\Users\\student\\Anaconda3\\envs\\cpu_env\\lib\\site-packages\\matplotlib\\cbook\\__init__.py:1323: RuntimeWarning: invalid value encountered in greater_equal\n",
      "  wisklo = x[x >= loval]\n",
      "C:\\Users\\student\\Anaconda3\\envs\\cpu_env\\lib\\site-packages\\matplotlib\\cbook\\__init__.py:1331: RuntimeWarning: invalid value encountered in less\n",
      "  x[x < stats['whislo']],\n",
      "C:\\Users\\student\\Anaconda3\\envs\\cpu_env\\lib\\site-packages\\matplotlib\\cbook\\__init__.py:1332: RuntimeWarning: invalid value encountered in greater\n",
      "  x[x > stats['whishi']],\n"
     ]
    },
    {
     "data": {
      "text/plain": [
       "{'whiskers': [<matplotlib.lines.Line2D at 0x2973fd9e828>,\n",
       "  <matplotlib.lines.Line2D at 0x2973fd9ebe0>],\n",
       " 'caps': [<matplotlib.lines.Line2D at 0x2973fd9ef28>,\n",
       "  <matplotlib.lines.Line2D at 0x2973fd882b0>],\n",
       " 'boxes': [<matplotlib.lines.Line2D at 0x2973fd9e470>],\n",
       " 'medians': [<matplotlib.lines.Line2D at 0x2973fd885f8>],\n",
       " 'fliers': [<matplotlib.lines.Line2D at 0x2973fd88940>],\n",
       " 'means': []}"
      ]
     },
     "execution_count": 26,
     "metadata": {},
     "output_type": "execute_result"
    },
    {
     "data": {
      "image/png": "[encoded data removed]",
      "text/plain": [
       "<Figure size 432x288 with 1 Axes>"
      ]
     },
     "metadata": {
      "needs_background": "light"
     },
     "output_type": "display_data"
    }
   ],
   "source": []
  },
  {
   "cell_type": "code",
   "execution_count": null,
   "metadata": {},
   "outputs": [],
   "source": []
  },
  {
   "cell_type": "code",
   "execution_count": null,
   "metadata": {},
   "outputs": [],
   "source": []
  }
 ],
 "metadata": {
  "kernelspec": {
   "display_name": "[CPU_ENV]",
   "language": "python",
   "name": "cpu_env"
  },
  "language_info": {
   "codemirror_mode": {
    "name": "ipython",
    "version": 3
   },
   "file_extension": ".py",
   "mimetype": "text/x-python",
   "name": "python",
   "nbconvert_exporter": "python",
   "pygments_lexer": "ipython3",
   "version": "3.6.9"
  }
 },
 "nbformat": 4,
 "nbformat_minor": 2
}
