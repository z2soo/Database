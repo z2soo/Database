{
 "cells": [
  {
   "cell_type": "code",
   "execution_count": 7,
   "metadata": {},
   "outputs": [],
   "source": [
    "# logistic regression을 그림으로 알아보아요\n",
    "\n",
    "\n",
    "import pandas as pd\n",
    "import numpy as np\n",
    "import matplotlib.pyplot as plt\n",
    "import tensorflow as tf\n",
    "import warnings \n",
    "#경고메세지 안뜨게 하기 위함\n",
    "from sklearn.linear_model import LogisticRegression\n",
    "import mglearn \n",
    "# mglearn은 처음 사용하는 것으로 설치 해야 가능\n",
    "# 데이터 셋을 제공해줌\n",
    "\n",
    "warnings.filterwarnings(action=\"ignore\")\n",
    "# warning 출력 배제 action"
   ]
  },
  {
   "cell_type": "code",
   "execution_count": 25,
   "metadata": {
    "scrolled": false
   },
   "outputs": [
    {
     "data": {
      "text/plain": [
       "(26, 2)"
      ]
     },
     "execution_count": 25,
     "metadata": {},
     "output_type": "execute_result"
    },
    {
     "data": {
      "image/png": "[encoded data removed]",
      "text/plain": [
       "<Figure size 432x288 with 1 Axes>"
      ]
     },
     "metadata": {
      "needs_background": "light"
     },
     "output_type": "display_data"
    }
   ],
   "source": [
    "# 데이터 셋 불러오기\n",
    "\n",
    "\n",
    "x, y = mglearn.datasets.make_forge()\n",
    "\n",
    "# 먼저 간단하게 scatter 산점도를 그려보아요\n",
    "# y값이 0인 x를 추출해서 x의 첫번째 컬럼을 x축으로,\n",
    "# x의 두번째 컬럼은 y축으로 scatter를 그려보아요\n",
    "# 마스크 사용\n",
    "\n",
    "Blue = x[y==0]\n",
    "plt.scatter(Blue[:,0], Blue[:,1])\n",
    "\n",
    "Orange = x[y==1]\n",
    "plt.scatter(Orange[:,0], Orange[:,1])\n",
    "\n"
   ]
  },
  {
   "cell_type": "code",
   "execution_count": 38,
   "metadata": {},
   "outputs": [
    {
     "name": "stdout",
     "output_type": "stream",
     "text": [
      "cost 값은: 7.670059680938721\n",
      "cost 값은: 0.3212696611881256\n",
      "cost 값은: 0.2715955376625061\n",
      "cost 값은: 0.26020848751068115\n",
      "cost 값은: 0.2560076415538788\n",
      "cost 값은: 0.25400254130363464\n",
      "cost 값은: 0.2528211176395416\n",
      "cost 값은: 0.2519853413105011\n",
      "cost 값은: 0.2513054609298706\n",
      "cost 값은: 0.2506997287273407\n",
      "[1]\n"
     ]
    },
    {
     "data": {
      "image/png": "[encoded data removed]",
      "text/plain": [
       "<Figure size 432x288 with 1 Axes>"
      ]
     },
     "metadata": {},
     "output_type": "display_data"
    }
   ],
   "source": [
    "# machine learning(logistic regression\n",
    "# train data set(test data set은 넘어간다.)\n",
    "train_x_data = x\n",
    "\n",
    "# train_y_data = y\n",
    "# shape이 다르기 때문에 맞춰줘야 함 (1차 배열)\n",
    "# 행은 몇개가 되어도 상관이 없고 열은 1열, 총 2차 배열로 reshape\n",
    "train_y_data = y.reshape([-1,1])\n",
    "\n",
    "# placeholder\n",
    "X = tf.placeholder(shape=[None, 2], dtype=tf.float32)\n",
    "Y = tf.placeholder(shape=[None, 1], dtype=tf.float32)\n",
    "\n",
    "# Weight, bias\n",
    "W = tf.Variable(tf.random_normal([2,1]), name='weight')\n",
    "b = tf.Variable(tf.random_normal([1]), name='bias')\n",
    "\n",
    "# Hypothesis\n",
    "logit = tf.matmul(X,W) + b\n",
    "H = tf.sigmoid(logit)\n",
    "\n",
    "# cost\n",
    "cost = tf.reduce_mean(tf.nn.sigmoid_cross_entropy_with_logits(logits = logit,\n",
    "                                                              labels = Y))\n",
    "\n",
    "# train\n",
    "# optimizer = tf.train.GradientDescentOptimizer(learning_rate = 0.01)\n",
    "# train = optimizer.minimizer(cost)\n",
    "train = tf.train.GradientDescentOptimizer(learning_rate = 0.01).minimize(cost)\n",
    "\n",
    "# session, 초기화\n",
    "sess = tf.Session()\n",
    "sess.run(tf.global_variables_initializer())\n",
    "\n",
    "# 학습진행\n",
    "for step in range(3000):\n",
    "    _, cost_val = sess.run([train, cost], feed_dict = {X: train_x_data,\n",
    "                                                      Y: train_y_data})\n",
    "    if step % 300 == 0:\n",
    "        print(f'cost 값은: {cost_val}')\n",
    "\n",
    "        \n",
    "# 정확도 측정(Accuracy): 95%이상 나오면 쓸만한 모델\n",
    "# prediction(예측)\n",
    "result = sess.run(H, feed_dict={X: [[9,4]]})\n",
    "result\n",
    "# array([[0.8272993]], dtype=float32)\n",
    "# 1에 가까움\n",
    "\n",
    "\n",
    "# 이 또한 sctter로 찍어볼 것\n",
    "Blue = x[y==0]\n",
    "plt.scatter(Blue[:,0], Blue[:,1])\n",
    "\n",
    "Orange = x[y==1]\n",
    "plt.scatter(Orange[:,0], Orange[:,1])\n",
    "\n",
    "plt.scatter(9,4)\n",
    "# 1의 분포에 가까움\n",
    "# logistic은 어떤 분포에 가까운지를 보는것 \n",
    "\n",
    "\n",
    "# sklearn 제공 logistic regression 학습 및 예측\n",
    "model = LogisticRegression()\n",
    "myModel = model.fit(x,y) #logistic model 학습\n",
    "print(myModel.predict([[9,4]])) #1\n",
    "# 이는 바로 1 값을 예측해준다.\n",
    "\n",
    "# 이 모델을 이용해서 그림을 그릴 수 있음\n",
    "mglearn.plots.plot_2d_separator(myModel, x, fill=False,\n",
    "                               eps = 0.5, alpha = 0.7)\n",
    "# model을 x 데이터를 이용해서 그림, alpha 값은 투명도, eps는 스케일 크기 잡는 것\n",
    "# 선보다\n",
    "# linear은 데이터를 가장 잘 설명하는 선을 만드는 것\n",
    "# logistic은 두 개의 분류를 가로지르는 적절한 선을 구하는 것\n",
    "# 군집을 가로지르는 경계를 구하는 것, 이를 통해 예측하고자 하는데이터가 어느 쪽인지를 통해 예측\n",
    "# x가 2개라서 2치원으로 표현되었고, 3개면 3차원으로 표현되고 선이 아닌 면을 구할 것\n",
    "# hypho plan을 구하는 것이 logistic의 목적\n",
    "\n",
    "# 그런데 파란색, 노란색 예외가 있기는 함!\n",
    "# 과적합: 예외 없이 딱 맞는 hypho plan: 오히려 실데이터 넣으면 부정적 결과 나옴"
   ]
  },
  {
   "cell_type": "code",
   "execution_count": 40,
   "metadata": {},
   "outputs": [
    {
     "data": {
      "text/plain": [
       "<matplotlib.collections.PathCollection at 0x1b8197d3668>"
      ]
     },
     "execution_count": 40,
     "metadata": {},
     "output_type": "execute_result"
    },
    {
     "data": {
      "image/png": "[encoded data removed]",
      "text/plain": [
       "<Figure size 432x288 with 1 Axes>"
      ]
     },
     "metadata": {
      "needs_background": "light"
     },
     "output_type": "display_data"
    }
   ],
   "source": [
    "# logistic을 multinomial로 작성해보아요\n",
    "\n",
    "# X 데이터: 중간고사 성적과 기말고사 성적이 들어갈 것\n",
    "# Y 데이터: 학점\n",
    "\n",
    "x = np.array([[10,5],\n",
    "            [9,5],\n",
    "            [5,1],\n",
    "            [4,2],\n",
    "            [1,3]])\n",
    "y = np.array([['A'],\n",
    "              ['A'],\n",
    "              ['B'],\n",
    "              ['B'],\n",
    "              ['C']])\n",
    "\n",
    "# x의 0,1행이랑 0열 그리고 0,1행이랑 1열: A 학점\n",
    "plt.scatter(x[0:2,0], x[0:2,1]) #A학점 파란색\n",
    "plt.scatter(x[2:4,0], x[2:4,1]) #B학점 주황색\n",
    "plt.scatter(x[4,0], x[4,1]) #C학점 초록색\n",
    "\n",
    "# logistic에서의 H\n",
    "# H=tf.sigmoid(tf.matmul(x,w)+b)"
   ]
  },
  {
   "cell_type": "code",
   "execution_count": 10,
   "metadata": {},
   "outputs": [
    {
     "name": "stdout",
     "output_type": "stream",
     "text": [
      "cost값은 : 2.57488751411438\n",
      "cost값은 : 1.0543771982192993\n",
      "cost값은 : 0.7914150953292847\n",
      "cost값은 : 0.5894469618797302\n",
      "cost값은 : 0.5170459151268005\n",
      "cost값은 : 0.48012036085128784\n",
      "cost값은 : 0.055457137525081635\n",
      "cost값은 : 0.049413084983825684\n",
      "cost값은 : 0.04531131312251091\n",
      "cost값은 : 0.04212411120533943\n",
      "정확도: 1.0\n"
     ]
    }
   ],
   "source": [
    "# 퀴즈 데이터\n",
    "\n",
    "import tensorflow as tf\n",
    "\n",
    "# train data set \n",
    "train_x_data = [[10,7,8,5],\n",
    "               [8,8,9,4],\n",
    "               [7,8,2,3],\n",
    "               [6,3,9,3],\n",
    "               [7,5,7,4],\n",
    "               [3,5,6,2],\n",
    "               [2,4,3,1]]\n",
    "\n",
    "# y data를 one hot encoding 형태로 바꿔서 써야 함\n",
    "train_y_data = [[1,0,0],\n",
    "               [1,0,0],\n",
    "               [0,1,0],\n",
    "               [0,1,0],\n",
    "               [0,1,0],\n",
    "               [0,0,1],\n",
    "               [0,0,1]]\n",
    "\n",
    "\n",
    "# palceolder\n",
    "X = tf.placeholder(shape=[None, 4], dtype=tf.float32)\n",
    "Y = tf.placeholder(shape=[None, 3], dtype=tf.float32)\n",
    "\n",
    "\n",
    "# weight, bias\n",
    "# 총 12개의 W를 구하고, 매트릭스 형태로 구함\n",
    "# 총 3개의 bias를 구함\n",
    "W = tf.Variable(tf.random_normal([4,3]), name='weight')\n",
    "b = tf.Variable(tf.random_normal([3]), name='bias')\n",
    "\n",
    "\n",
    "# Hypothesis\n",
    "logit = tf.matmul(X,W) + b\n",
    "# sigmoid 사용하면 각각의 확률이 나옴\n",
    "# 전체의 확률을 구하기 위해서 softmax 사용\n",
    "H = tf.nn.softmax(logit) #변경 유의!!\n",
    "\n",
    "\n",
    "# cost\n",
    "# H를 가지고 cost를 만듦, 따라서 H가 변경이 되면 cost 또한 변경\n",
    "# tt.nn.softmax_cross_entropy_with_logits_v2 사용!\n",
    "cost = tf.reduce_mean(tf.nn.softmax_cross_entropy_with_logits_v2(\n",
    "                     logits = logit,\n",
    "                     labels = Y))\n",
    "\n",
    "\n",
    "# session, 초기화\n",
    "sess = tf.Session()\n",
    "sess.run(tf.global_variables_initializer())\n",
    "\n",
    "# train\n",
    "train = tf.train.GradientDescentOptimizer(learning_rate = 0.1).minimize(cost)\n",
    "\n",
    "# 학습\n",
    "for step in range(3000):\n",
    "    _, val_cost = sess.run([train,cost], feed_dict = {X: train_x_data,\n",
    "                                                     Y: train_y_data})\n",
    "    if step % 300 == 0:\n",
    "        print(f'cost값은 : {val_cost}')\n",
    "        \n",
    "        \n",
    "# accuracy정확도\n",
    "# 이전에 했던 logistic정확도 측정은 다음과 같음, 확률로 나오는 것을 1, 0으로 바꿔줌\n",
    "# predict = tf.cast(H > 0.5, dtype=tf.float32)\n",
    "# 그런데 지금 H는 3개가 나옴: logistic 3개\n",
    "\n",
    "# sess.run(H, feed_dict={X:[[10,8,9,0]]}) : 값이 1행 3열로 나옴\n",
    "# 이 합은 1, 이 중 가장 큰 값을 찾아야 함\n",
    "predict = tf.argmax(H, axis=1) #가장 큰 값의 index번호를 리턴\n",
    "correct = tf.equal(predict, tf.argmax(Y, axis=1)) #기징 큰 h값이 위치한 것을 가지고 비교\n",
    "accuracy = tf.reduce_mean(tf.cast(correct, dtype=tf.float32))\n",
    "print(f'정확도: {sess.run(accuracy, feed_dict={X: train_x_data, Y: train_y_data})}')\n",
    "# 같은 데이터로 하였기에 정학도가 1로떨어짐\n"
   ]
  }
 ],
 "metadata": {
  "kernelspec": {
   "display_name": "[CPU_ENV]",
   "language": "python",
   "name": "cpu_env"
  },
  "language_info": {
   "codemirror_mode": {
    "name": "ipython",
    "version": 3
   },
   "file_extension": ".py",
   "mimetype": "text/x-python",
   "name": "python",
   "nbconvert_exporter": "python",
   "pygments_lexer": "ipython3",
   "version": "3.6.9"
  }
 },
 "nbformat": 4,
 "nbformat_minor": 2
}
