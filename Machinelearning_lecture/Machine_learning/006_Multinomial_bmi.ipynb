{
 "cells": [
  {
   "cell_type": "markdown",
   "metadata": {},
   "source": [
    "### 예제\n",
    "#### BMI 데이터를 학습한 후, 자신의 키와 몸무게를 넣어서 자신의 상태 확인하기\n",
    "#### bmi.csv 파일을 가져가서 multinomial 문제를 학습해보세요"
   ]
  },
  {
   "cell_type": "code",
   "execution_count": 4,
   "metadata": {},
   "outputs": [],
   "source": [
    "# 필요한 모듈 삽입\n",
    "\n",
    "\n",
    "import pandas as pd\n",
    "import numpy as np\n",
    "import matplotlib.pyplot as plt\n",
    "import tensorflow as tf\n",
    "from sklearn.linear_model import LogisticRegression\n",
    "from sklearn.preprocessing import MinMaxScaler"
   ]
  },
  {
   "cell_type": "code",
   "execution_count": 5,
   "metadata": {},
   "outputs": [],
   "source": [
    "# data 설정\n",
    "\n",
    "\n",
    "\n",
    "data_bmi = pd.read_csv(\"C:/Users/student/Desktop/머신러닝/bmi/bmi.csv\", skiprows=3)\n",
    "data_bmi.head\n",
    "\n",
    "x_data = np.array(data_bmi[[\"height\", \"weight\"]])\n",
    "x_data = MinMaxScaler().fit_transform(x_data)\n",
    "y_data = np.array(data_bmi[\"label\"])\n",
    "y_data = tf.one_hot(y_data,depth=3).eval(session=tf.Session())\n",
    "\n",
    "x_data.shape #(20000, 2)\n",
    "train_num = int(x_data.shape[0]*0.8)\n",
    "test_num = x_data.shape[0]-train_num\n",
    "\n",
    "train_x_data = x_data[:train_num]\n",
    "test_x_data = x_data[train_num:]\n",
    "\n",
    "train_y_data = y_data[:train_num]\n",
    "test_y_data = y_data[train_num:]\n"
   ]
  },
  {
   "cell_type": "code",
   "execution_count": 16,
   "metadata": {},
   "outputs": [
    {
     "name": "stdout",
     "output_type": "stream",
     "text": [
      "cost값은 : 1.5614553689956665\n",
      "cost값은 : 0.28348687291145325\n",
      "cost값은 : 0.22109878063201904\n",
      "cost값은 : 0.19091708958148956\n",
      "cost값은 : 0.17208625376224518\n",
      "정확도: 0.9797499775886536\n"
     ]
    }
   ],
   "source": [
    "## logistic regression 과정 \n",
    "\n",
    "\n",
    "\n",
    "# palceolder\n",
    "X = tf.placeholder(shape=[None, 2], dtype=tf.float32)\n",
    "Y = tf.placeholder(shape=[None, 3], dtype=tf.float32)\n",
    "\n",
    "\n",
    "# weight, bias\n",
    "W = tf.Variable(tf.random_normal([2,3]), name='weight')\n",
    "b = tf.Variable(tf.random_normal([1,3]), name='bias')\n",
    "\n",
    "\n",
    "# Hypothesis\n",
    "logit = tf.matmul(X,W) + b\n",
    "H = tf.nn.softmax(logit)\n",
    "\n",
    "\n",
    "# cost\n",
    "cost = tf.reduce_mean(tf.nn.softmax_cross_entropy_with_logits_v2(\n",
    "                     logits = logit,\n",
    "                     labels = Y))\n",
    "\n",
    "\n",
    "# session, 초기화\n",
    "sess = tf.Session()\n",
    "sess.run(tf.global_variables_initializer())\n",
    "\n",
    "\n",
    "# train\n",
    "train = tf.train.GradientDescentOptimizer(learning_rate = 0.1).minimize(cost)\n",
    "\n",
    "\n",
    "# 학습\n",
    "for step in range(30000):\n",
    "    _, val_cost = sess.run([train,cost], feed_dict = {X: train_x_data,\n",
    "                                                     Y: train_y_data})\n",
    "    if step % 6000 == 0:\n",
    "        print(f'cost값은 : {val_cost}')\n",
    "        \n",
    "        \n",
    "# 예측, 정확도\n",
    "predict = tf.argmax(H, axis=1) \n",
    "correct = tf.equal(predict, tf.argmax(Y, axis=1))\n",
    "accuracy = tf.reduce_mean(tf.cast(correct, dtype=tf.float32))\n",
    "print(f'정확도: {sess.run(accuracy, feed_dict={X: test_x_data, Y: test_y_data})}')"
   ]
  },
  {
   "cell_type": "markdown",
   "metadata": {},
   "source": [
    "## 선생님 풀이"
   ]
  },
  {
   "cell_type": "code",
   "execution_count": null,
   "metadata": {},
   "outputs": [],
   "source": [
    "# 필요한 모듈 삽입\n",
    "\n",
    "\n",
    "import pandas as pd\n",
    "import numpy as np\n",
    "import matplotlib.pyplot as plt\n",
    "import tensorflow as tf\n",
    "from sklearn.linear_model import LogisticRegression\n",
    "from sklearn.preprocessing import MinMaxScaler"
   ]
  },
  {
   "cell_type": "code",
   "execution_count": 30,
   "metadata": {},
   "outputs": [
    {
     "name": "stdout",
     "output_type": "stream",
     "text": [
      "cost값은 : 1.4271974563598633\n",
      "cost값은 : 0.28417301177978516\n",
      "cost값은 : 0.22137115895748138\n",
      "cost값은 : 0.1910741627216339\n",
      "cost값은 : 0.1721917986869812\n",
      "정확도: 0.9797499775886536\n"
     ]
    },
    {
     "data": {
      "image/png": "[encoded data removed]",
      "text/plain": [
       "<Figure size 432x288 with 1 Axes>"
      ]
     },
     "metadata": {
      "needs_background": "light"
     },
     "output_type": "display_data"
    }
   ],
   "source": [
    "# data 설정\n",
    "\n",
    "\n",
    "# data loading\n",
    "data_df = pd.read_csv(\"C:/Users/student/Desktop/머신러닝/bmi/bmi.csv\", skiprows=3)\n",
    "\n",
    "# 결측치 확인\n",
    "data_df.isnull().sum(axis=0) #확인결과 결측치는 없음\n",
    "\n",
    "# 이상치 확인\n",
    "plt.boxplot(data_df[\"height\"]) #이상치 없음\n",
    "plt.boxplot(data_df[\"weight\"]) #이상치 없음\n",
    "\n",
    "# scaler 사용한 정규화\n",
    "# scaler.fit_transform: minmax를 위한 데이터를 가져오는 fit, 이를 변환하는 transform\n",
    "scaler = MinMaxScaler()\n",
    "x_data = scaler.fit_transform(data_df[[\"height\", \"weight\"]])\n",
    "\n",
    "# scaler가 정보를 가지고 있으며 자동으로 정규화 진행해줌\n",
    "scaler.data_min_ # array([120.,  35.])\n",
    "scaler.data_max_ # array([200.,  80.])\n",
    "\n",
    "# train, test data 구분 \n",
    "split_num = int(data_df.shape[0]*0.8)\n",
    "train_x_data = x_data[:split_num]\n",
    "test_x_data = x_data[split_num:]\n",
    "\n",
    "# 학습용, 테스트용 y data를 생성: one hot encoding\n",
    "# one hot encoding으로 전환시킬때, pandas.get dummies() 또는 tensorflow.one_hot()\n",
    "# sess로 싷행을 시켜줘야지 값이 나옴!\n",
    "sess = tf.Session()\n",
    "# sess.run(tf.one_hot(data_df.loc[:split_num,\"label\"],3)).shape #(16001, 3)\n",
    "# df.loc의 :는 inclusive, np.array의 :는 exclusive 이기에 shape에서 차이가 날 수 있음 주의!\n",
    "train_y_data = sess.run(tf.one_hot(data_df.loc[:split_num-1,\"label\"],3))\n",
    "test_y_data = sess.run(tf.one_hot(data_df.loc[split_num:,\"label\"],3))\n",
    "\n",
    "# palceolder\n",
    "X = tf.placeholder(shape=[None, 2], dtype=tf.float32)\n",
    "Y = tf.placeholder(shape=[None, 3], dtype=tf.float32)\n",
    "\n",
    "# weight, bias\n",
    "W = tf.Variable(tf.random_normal([2,3]), name='weight')\n",
    "b = tf.Variable(tf.random_normal([1,3]), name='bias')\n",
    "\n",
    "# Hypothesis\n",
    "logit = tf.matmul(X,W) + b\n",
    "H = tf.nn.softmax(logit)\n",
    "\n",
    "# cost\n",
    "cost = tf.reduce_mean(tf.nn.softmax_cross_entropy_with_logits_v2(\n",
    "                     logits = logit,\n",
    "                     labels = Y))\n",
    "\n",
    "# session, 초기화\n",
    "sess = tf.Session()\n",
    "sess.run(tf.global_variables_initializer())\n",
    "\n",
    "# train\n",
    "train = tf.train.GradientDescentOptimizer(learning_rate = 0.1).minimize(cost)\n",
    "\n",
    "# 학습\n",
    "for step in range(30000):\n",
    "    _, val_cost = sess.run([train,cost], feed_dict = {X: train_x_data,\n",
    "                                                     Y: train_y_data})\n",
    "    if step % 6000 == 0:\n",
    "        print(f'cost값은 : {val_cost}')\n",
    "        \n",
    "# 예측, 정확도\n",
    "predict = tf.argmax(H, axis=1) \n",
    "correct = tf.equal(predict, tf.argmax(Y, axis=1))\n",
    "accuracy = tf.reduce_mean(tf.cast(correct, dtype=tf.float32))\n",
    "print(f'정확도: {sess.run(accuracy, feed_dict={X: test_x_data, Y: test_y_data})}')"
   ]
  },
  {
   "cell_type": "code",
   "execution_count": 37,
   "metadata": {},
   "outputs": [
    {
     "name": "stdout",
     "output_type": "stream",
     "text": [
      "보통!\n"
     ]
    }
   ],
   "source": [
    "# prediction\n",
    "\n",
    "# 정규화를 해서 데이터를 넣지 말고, scaler 사용하면 됨\n",
    "# 위에서 사용하면서 관련 정보를 저장해둠\n",
    "prediction_data = scaler.transform([[168, 62]])\n",
    "prediction_data #array([[0.6, 0.6]])\n",
    "\n",
    "sess.run(H, feed_dict={X : prediction_data})\n",
    "# array([[0.03564807, 0.9094091 , 0.05494288]], dtype=float32)\n",
    "# 두번째의 확률이 제일 큼: 따라서 1, 즉 평균이라고 나올 확률이 가장 높다\n",
    "# 보기 불편하니까 정리\n",
    "result = sess.run(tf.argmax(H,1), feed_dict={X : prediction_data})\n",
    "\n",
    "if result == 0:\n",
    "    print(\"말랐어어어어\")\n",
    "elif result == 1:\n",
    "    print(\"보통!\")\n",
    "elif result == 2:\n",
    "    print(\"운동하쟛\")"
   ]
  },
  {
   "cell_type": "code",
   "execution_count": null,
   "metadata": {},
   "outputs": [],
   "source": []
  },
  {
   "cell_type": "code",
   "execution_count": null,
   "metadata": {},
   "outputs": [],
   "source": []
  },
  {
   "cell_type": "code",
   "execution_count": null,
   "metadata": {},
   "outputs": [],
   "source": []
  }
 ],
 "metadata": {
  "kernelspec": {
   "display_name": "[CPU_ENV]",
   "language": "python",
   "name": "cpu_env"
  },
  "language_info": {
   "codemirror_mode": {
    "name": "ipython",
    "version": 3
   },
   "file_extension": ".py",
   "mimetype": "text/x-python",
   "name": "python",
   "nbconvert_exporter": "python",
   "pygments_lexer": "ipython3",
   "version": "3.6.9"
  }
 },
 "nbformat": 4,
 "nbformat_minor": 2
}
