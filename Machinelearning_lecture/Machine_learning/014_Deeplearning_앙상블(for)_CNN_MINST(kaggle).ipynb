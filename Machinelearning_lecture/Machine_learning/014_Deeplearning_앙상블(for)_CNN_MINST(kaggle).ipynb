{
 "cells": [
  {
   "cell_type": "code",
   "execution_count": 2,
   "metadata": {},
   "outputs": [],
   "source": [
    "# 필요 모듈 삽입\n",
    "\n",
    "\n",
    "import numpy as np\n",
    "import tensorflow as tf\n",
    "import pandas as pd\n",
    "import matplotlib.pyplot as plt \n",
    "from tensorflow.examples.tutorials.mnist import input_data\n",
    "from sklearn.linear_model import LogisticRegression\n",
    "from sklearn.preprocessing import MinMaxScaler"
   ]
  },
  {
   "cell_type": "code",
   "execution_count": 3,
   "metadata": {},
   "outputs": [],
   "source": [
    "# data loading\n",
    "\n",
    "\n",
    "train_data = pd.read_csv('C:/Users/student/Desktop/머신러닝/data/digit-recognizer/train.csv')\n",
    "test_data = np.array(pd.read_csv('C:/Users/student/Desktop/머신러닝/data/digit-recognizer/test.csv'))"
   ]
  },
  {
   "cell_type": "code",
   "execution_count": 4,
   "metadata": {},
   "outputs": [],
   "source": [
    "# 그래프 초기화\n",
    "\n",
    "tf.reset_default_graph()\n",
    "\n",
    "\n",
    "\n",
    "# train data 설정\n",
    "\n",
    "x_data = np.array(train_data.drop(['label'], axis='columns', inplace=False))\n",
    "y_data = np.array(train_data['label'])\n",
    "\n",
    "y_data = pd.get_dummies(train_data.label).values\n",
    "y_data.shape\n",
    "\n",
    "scaler=MinMaxScaler()\n",
    "x_data = scaler.fit_transform(x_data)\n",
    "\n",
    "split_num = int(x_data.shape[0]*0.8)\n",
    "train_x_data = x_data[:split_num]\n",
    "test_x_data = x_data[split_num:]\n",
    "train_y_data = y_data[:split_num]\n",
    "test_y_data = y_data[split_num:]"
   ]
  },
  {
   "cell_type": "code",
   "execution_count": 5,
   "metadata": {},
   "outputs": [],
   "source": [
    "# Placeholder\n",
    "\n",
    "X = tf.placeholder(shape = [None, 784], dtype=tf.float32)\n",
    "Y = tf.placeholder(shape = [None, 10], dtype=tf.float32)\n",
    "drop_rate = tf.placeholder(dtype=tf.float32)\n",
    "\n",
    "\n",
    "# image data 설정\n",
    "\n",
    "x_img = tf.reshape(X, [-1,28,28,1])"
   ]
  },
  {
   "cell_type": "code",
   "execution_count": 6,
   "metadata": {},
   "outputs": [
    {
     "name": "stdout",
     "output_type": "stream",
     "text": [
      "WARNING:tensorflow:From C:\\Users\\student\\Anaconda3\\envs\\cpu_env\\lib\\site-packages\\tensorflow\\python\\ops\\losses\\losses_impl.py:691: softmax_cross_entropy_with_logits (from tensorflow.python.ops.nn_ops) is deprecated and will be removed in a future version.\n",
      "Instructions for updating:\n",
      "\n",
      "Future major versions of TensorFlow will allow gradients to flow\n",
      "into the labels input on backprop by default.\n",
      "\n",
      "See tf.nn.softmax_cross_entropy_with_logits_v2.\n",
      "\n"
     ]
    }
   ],
   "source": [
    "# CNN\n",
    "\n",
    "L1 = tf.layers.conv2d(inputs = x_img,\n",
    "                      filters = 32,\n",
    "                      kernel_size = [3,3],\n",
    "                      padding =\"SAME\",\n",
    "                      strides = 1, \n",
    "                      activation = tf.nn.relu)\n",
    "L1 = tf.layers.max_pooling2d(inputs = L1,\n",
    "                             pool_size = [2,2],\n",
    "                             padding = \"SAME\",\n",
    "                             strides = 2)\n",
    "\n",
    "\n",
    "L2 = tf.layers.conv2d(inputs = L1,\n",
    "                      filters = 64,\n",
    "                      kernel_size = [3,3],\n",
    "                      padding =\"SAME\",\n",
    "                      strides = 1,\n",
    "                      activation = tf.nn.relu)\n",
    "L2 = tf.layers.max_pooling2d(inputs = L2,\n",
    "                             pool_size = [2,2],\n",
    "                             padding = \"SAME\",\n",
    "                             strides = 2)\n",
    "\n",
    "\n",
    "convoled_data = tf.reshape(L2, [-1,7*7*64])\n",
    "\n",
    "\n",
    "layer1 = tf.layers.dense(inputs = convoled_data,\n",
    "                         units = 256,\n",
    "                         activation = tf.nn.relu)\n",
    "layer1 = tf.layers.dropout(inputs = layer1,\n",
    "                           rate = drop_rate)\n",
    "layer2 = tf.layers.dense(inputs = layer1,\n",
    "                         units = 128,   \n",
    "                         activation = tf.nn.relu)\n",
    "layer2 = tf.layers.dropout(inputs = layer2,\n",
    "                           rate = drop_rate)\n",
    "layer3 = tf.layers.dense(inputs = layer2,\n",
    "                         units = 512,  \n",
    "                         activation = tf.nn.relu)\n",
    "layer3 = tf.layers.dropout(inputs = layer2,\n",
    "                           rate = drop_rate)\n",
    "\n",
    "\n",
    "H = tf.layers.dense(inputs = layer3, units=10)\n",
    "\n",
    "cost = tf.losses.softmax_cross_entropy(Y, H)\n",
    "\n",
    "train = tf.train.AdadeltaOptimizer(learning_rate = 0.001).minimize(cost)\n",
    "\n",
    "sess = tf.Session()\n",
    "sess.run(tf.global_variables_initializer())"
   ]
  },
  {
   "cell_type": "code",
   "execution_count": 8,
   "metadata": {},
   "outputs": [
    {
     "ename": "NameError",
     "evalue": "name 'H_result' is not defined",
     "output_type": "error",
     "traceback": [
      "\u001b[1;31m---------------------------------------------------------------------------\u001b[0m",
      "\u001b[1;31mNameError\u001b[0m                                 Traceback (most recent call last)",
      "\u001b[1;32m<ipython-input-8-cbd8e9dac926>\u001b[0m in \u001b[0;36m<module>\u001b[1;34m\u001b[0m\n\u001b[0;32m     22\u001b[0m         \u001b[0mH_result\u001b[0m \u001b[1;33m=\u001b[0m \u001b[0mH_val\u001b[0m\u001b[1;33m\u001b[0m\u001b[1;33m\u001b[0m\u001b[0m\n\u001b[0;32m     23\u001b[0m     \u001b[1;32melse\u001b[0m\u001b[1;33m:\u001b[0m\u001b[1;33m\u001b[0m\u001b[1;33m\u001b[0m\u001b[0m\n\u001b[1;32m---> 24\u001b[1;33m         \u001b[0mH_result\u001b[0m \u001b[1;33m=\u001b[0m \u001b[0mnp\u001b[0m\u001b[1;33m.\u001b[0m\u001b[0madd\u001b[0m\u001b[1;33m(\u001b[0m\u001b[0mH_result\u001b[0m\u001b[1;33m,\u001b[0m\u001b[0mH_val\u001b[0m\u001b[1;33m)\u001b[0m\u001b[1;33m\u001b[0m\u001b[1;33m\u001b[0m\u001b[0m\n\u001b[0m\u001b[0;32m     25\u001b[0m \u001b[1;33m\u001b[0m\u001b[0m\n",
      "\u001b[1;31mNameError\u001b[0m: name 'H_result' is not defined"
     ]
    }
   ],
   "source": [
    "for i in range(10):\n",
    "    \n",
    "    train_epoch = 50\n",
    "    batch_size = 100\n",
    "\n",
    "\n",
    "    for step in range(train_epoch):\n",
    "        num_of_iter = int(x_data.shape[0] / batch_size)\n",
    "\n",
    "        for i in range(num_of_iter):\n",
    "            batch_x = x_data[i*batch_size:(i+1)*batch_size]\n",
    "            batch_y = y_data[i*batch_size:(i+1)*batch_size]\n",
    "\n",
    "            _, cost_val = sess.run([train, cost],\n",
    "                                   feed_dict={X: batch_x,\n",
    "                                              Y: batch_y,\n",
    "                                             drop_rate: 0.3})\n",
    "    \n",
    "    H_val = sess.run(H, feed_dict={X: test_x_data})\n",
    "    \n",
    "    if i == 0:\n",
    "        H_result = H_val\n",
    "    else:\n",
    "        H_result = np.add(H_result,H_val)\n",
    "        "
   ]
  },
  {
   "cell_type": "code",
   "execution_count": null,
   "metadata": {},
   "outputs": [],
   "source": [
    "predict = np.argmax(H_result,1)\n",
    "Y = mnist.test.labels\n",
    "correct = np.equal(predict, np.argmax(Y,1))\n",
    "accuracy = np.mean(correct)\n",
    "print(accuracy)"
   ]
  },
  {
   "cell_type": "code",
   "execution_count": null,
   "metadata": {},
   "outputs": [],
   "source": [
    "# 단 이러한 경우, 모델은 날라가고 우리가 저장한 H의 값만 있는 것\n",
    "# prediction을 할 수가 없음\n",
    "# 각 모델을 저장해야 prediction을 할 수 있고, 따라서 class를 사용해야 함\n",
    "\n",
    "# 모듈화!\n",
    "# 기능의 모듈화: 자주 사용되는 코드를 함수화시켜서 반볻 처리르 하는 것을 의미\n",
    "# 객체 지향의 모듈화는 '기능+데이터' 함께 모듈화한다.\n",
    "# 이것이 험수와 객체지향의 가장 큰 차이점\n"
   ]
  }
 ],
 "metadata": {
  "kernelspec": {
   "display_name": "[CPU_ENV]",
   "language": "python",
   "name": "cpu_env"
  },
  "language_info": {
   "codemirror_mode": {
    "name": "ipython",
    "version": 3
   },
   "file_extension": ".py",
   "mimetype": "text/x-python",
   "name": "python",
   "nbconvert_exporter": "python",
   "pygments_lexer": "ipython3",
   "version": "3.6.9"
  }
 },
 "nbformat": 4,
 "nbformat_minor": 2
}
