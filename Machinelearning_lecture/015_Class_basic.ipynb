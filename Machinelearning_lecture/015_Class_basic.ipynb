{
 "cells": [
  {
   "cell_type": "markdown",
   "metadata": {},
   "source": [
    "#### 객체지향 이해하기"
   ]
  },
  {
   "cell_type": "code",
   "execution_count": null,
   "metadata": {},
   "outputs": [],
   "source": [
    "# 객체란?\n",
    "# 객체 = instance = object (문맥상 조금은 다르지만 우선 동일한 것으로 인식하고 시작)\n",
    "# 기능과 데이터가 같이 존재하는 일정 크기의 메모리 공간을 지칭\n",
    "\n",
    "# 예를 들어 list란 list의 영역을 만드는 것이지만, 데이터만을 가지고, \n",
    "# 함수 def는 기능을 저장하되 데이터를 저장하지는 못한다.\n",
    "# 단, 객체는 이 둘을 모두 저장한 공간!\n",
    "\n",
    "# 객체를 만드려면?\n",
    "# 객체에 대한 정보(어떤 기능을 가지는지 그리고 어떻게 데이터를 저장할 것인지) 필요 : 구조 필요\n",
    "# 이러한 정보를 기술해 놓은 것이 바로 class\n",
    "\n",
    "# 객체는 메모리에 실존하는 메모리 자료구조\n",
    "# class는 이를 어떻게 만들지에 대한 정보\n"
   ]
  },
  {
   "cell_type": "markdown",
   "metadata": {},
   "source": [
    "#### 객체 생성을위한 class 정의"
   ]
  },
  {
   "cell_type": "code",
   "execution_count": 4,
   "metadata": {},
   "outputs": [
    {
     "name": "stdout",
     "output_type": "stream",
     "text": [
      "소나타 객체가 생성되었어욧!\n",
      "그랜저 객체가 생성되었어욧!\n"
     ]
    }
   ],
   "source": [
    "# clss definition\n",
    "class Car:\n",
    "    \n",
    "    # 생성자 : class로부터 객체를 만들 때, 무조건 항상 호출되는 함수\n",
    "    #          정해진 생성 방법이 있음 : def __init(self,입력받을 인자명)\n",
    "    #          self : 현재 사용되는 객체에 대한 지칭, reference\n",
    "    #          인자 name을 입력받아 이를 이용해서 객체를 만들고자 함\n",
    "    \n",
    "    def __init__(self,name):\n",
    "        \n",
    "        # self. : 현재 사용하는 객체 지칭\n",
    "        self.myName = name\n",
    "        self.myList = [1,2,3,4]\n",
    "        print(f\"{self.myName} 객체가 생성되었어욧!\")\n",
    "        \n",
    "\n",
    "car1 = Car(\"소나타\")\n",
    "car2 = Car(\"그랜저\")\n",
    "\n",
    "# car1: reference value, reference를 가리키고 있음\n",
    "# class 객체 안에 소나타 라는 객체 reference가 생김\n",
    "# 이처럼 기존 데이터 타입을 모아서 새로운 데이터 타입을 만드는 것과 바슷\n",
    "\n",
    "        \n",
    "    "
   ]
  },
  {
   "cell_type": "code",
   "execution_count": 11,
   "metadata": {},
   "outputs": [
    {
     "name": "stdout",
     "output_type": "stream",
     "text": [
      "객체가 생성되었습니다\n",
      "자동차가 전진합니다\n",
      "95\n"
     ]
    }
   ],
   "source": [
    "# 초기화를 위해 인자를 받음\n",
    "class Car: # 무조건 class명 앞자리는 대문자\n",
    "  # constructor(생성자) => 함수\n",
    "    def __init__(self,name): # 초기화\n",
    "  # 객체가 처음 만들어 질 때 무조건 호출\n",
    "  # 객체가 가지는 변수를 특정 값으로 초기화\n",
    "      print(\"객체가 생성되었습니다\")\n",
    "    # class로부터 파생된 객체가 가질 수 없는 data는\n",
    "    # 여기에 씀\n",
    "      self.car_name = name\n",
    "      self.fuel = 100\n",
    "\n",
    "  # 기능을 위한 함수(여러개 가능)\n",
    "    def go_front(self):\n",
    "        my_var = 100\n",
    "        print(\"자동차가 전진합니다\")\n",
    "        self.fuel =  self.fuel -  5\n",
    "        \n",
    "    def get_fuel(self):\n",
    "        return self.fuel\n",
    " \n",
    "    def backward(self):\n",
    "        print(\"자동차가 후진합니다\")\n",
    "\n",
    "car1 = Car(\"소나타\")  #car1이 하나의 객체\n",
    "car1.go_front()\n",
    "print(car1.get_fuel())\n",
    "\n",
    "    \n",
    "    "
   ]
  },
  {
   "cell_type": "code",
   "execution_count": null,
   "metadata": {},
   "outputs": [],
   "source": []
  }
 ],
 "metadata": {
  "kernelspec": {
   "display_name": "[CPU_ENV]",
   "language": "python",
   "name": "cpu_env"
  },
  "language_info": {
   "codemirror_mode": {
    "name": "ipython",
    "version": 3
   },
   "file_extension": ".py",
   "mimetype": "text/x-python",
   "name": "python",
   "nbconvert_exporter": "python",
   "pygments_lexer": "ipython3",
   "version": "3.6.9"
  }
 },
 "nbformat": 4,
 "nbformat_minor": 2
}
