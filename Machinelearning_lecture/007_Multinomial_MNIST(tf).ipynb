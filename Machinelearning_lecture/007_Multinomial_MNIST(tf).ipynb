{
 "cells": [
  {
   "cell_type": "code",
   "execution_count": 2,
   "metadata": {},
   "outputs": [],
   "source": [
    "# 필요 모듈 삽입\n",
    "\n",
    "\n",
    "import numpy as np\n",
    "import tensorflow as tf\n",
    "import pandas as pd\n",
    "import matplotlib.pyplot as plt \n",
    "from tensorflow.examples.tutorials.mnist import input_data"
   ]
  },
  {
   "cell_type": "code",
   "execution_count": 3,
   "metadata": {
    "scrolled": false
   },
   "outputs": [
    {
     "name": "stdout",
     "output_type": "stream",
     "text": [
      "Extracting C:/python_DA/data/mnist\\train-images-idx3-ubyte.gz\n",
      "Extracting C:/python_DA/data/mnist\\train-labels-idx1-ubyte.gz\n",
      "Extracting C:/python_DA/data/mnist\\t10k-images-idx3-ubyte.gz\n",
      "Extracting C:/python_DA/data/mnist\\t10k-labels-idx1-ubyte.gz\n"
     ]
    }
   ],
   "source": [
    "# data loading\n",
    "\n",
    "\n",
    "# 데이터를 다운받아서 data 폴더 내 mnist 폴더에 압축 파일을 생성: gz 파일\n",
    "# 예제로 제공되는 것이기에 가능: one hot encoding 작업된 것을 다운\n",
    "# 두 개는 학습용, 두 개는 테스트용, x, y data 분리되어 있음\n",
    "mnist = input_data.read_data_sets('C:/python_DA/data/mnist',one_hot = True)"
   ]
  },
  {
   "cell_type": "code",
   "execution_count": 4,
   "metadata": {},
   "outputs": [],
   "source": [
    "# x data 확인\n",
    "# 학습용 이미지 데이터\n",
    "\n",
    "\n",
    "mnist.train.images\n",
    "mnist.train.images.shape #(55000, 784)\n",
    "\n",
    "train_x_data_df = pd.DataFrame(mnist.train.images)\n",
    "train_x_data_df.to_csv('./mnist_x_data.csv', index=False)\n",
    "# 만들어진 파일을 노트패드로 열어보면 숫자로 표현되어 잇음\n",
    "# x데이터의 각 col은(각 픽셀값은) 0-1값으로 표현되어 있음\n",
    "# 0-1 값은 희색-검정색 명암(색의 진하기 정도)을 의미\n",
    "# 이는 이미 scale이 되어있는 상태\n"
   ]
  },
  {
   "cell_type": "code",
   "execution_count": 17,
   "metadata": {},
   "outputs": [],
   "source": [
    "# y data 확인\n",
    "# 학습용 이미지 데이터\n",
    "\n",
    "mnist.train.labels\n",
    "train_y_data_df = pd.DataFrame(mnist.train.images)\n",
    "train_y_data_df.to_csv('./mnist_y_data.csv', index=False)\n",
    "# 학습용 x데이터와 마찬가지로 파일로 저장해서 확인\n",
    "# 확인해보면 one hot encoding이 완료된 데이터\n"
   ]
  },
  {
   "cell_type": "code",
   "execution_count": 12,
   "metadata": {},
   "outputs": [
    {
     "name": "stdout",
     "output_type": "stream",
     "text": [
      "cost값: 13.613129615783691\n",
      "cost값: 5.424129486083984\n",
      "cost값: 3.461731195449829\n"
     ]
    }
   ],
   "source": [
    "# tensorflow machine learning\n",
    "\n",
    "\n",
    "# palceholder\n",
    "X = tf.placeholder(shape=[None, 784], dtype=tf.float32)\n",
    "Y = tf.placeholder(shape=[None, 10], dtype=tf.float32)\n",
    "\n",
    "# weight, bias\n",
    "W = tf.Variable(tf.random_normal([784, 10]), name='weight')\n",
    "b = tf.Variable(tf.random_normal([10]), name='bias')\n",
    "\n",
    "# H\n",
    "logit = tf.matmul(X,W) + b\n",
    "H = tf.nn.softmax(logit)\n",
    "\n",
    "# cost\n",
    "cost = tf.reduce_mean(tf.nn.softmax_cross_entropy_with_logits_v2(logits=logit,\n",
    "                                                                labels=Y))\n",
    "\n",
    "# train\n",
    "train = tf.train.GradientDescentOptimizer(learning_rate=0.5).minimize(cost)\n",
    "\n",
    "# session, 초기화\n",
    "sess = tf.Session()\n",
    "sess.run(tf.global_variables_initializer())\n"
   ]
  },
  {
   "cell_type": "code",
   "execution_count": 16,
   "metadata": {},
   "outputs": [
    {
     "name": "stdout",
     "output_type": "stream",
     "text": [
      "cost값: 0.6362048387527466\n",
      "cost값: 0.44082024693489075\n",
      "cost값: 0.3243570029735565\n"
     ]
    }
   ],
   "source": [
    "# 학습\n",
    "# 이제부터 학습시, 조심! 기존에 연습하던 것 보다 데이터 사이즈가 커졋기 때문!\n",
    "# 기존에는 몇천번씩 학습을 시켰으나 이제는, 에폭을 이용!\n",
    "# 데이터 사이즈를 보고 에폭을 결정\n",
    "\n",
    "# 위에서 df으로 만든 데이터가 아닌 기존의 데이터 사용\n",
    "# numpy array형태를 사용하는 것이 좋기 때문, 헷갈리지 않음\n",
    "# batch size = 전체 데이터를 몇개로 나눌지, 일부를 가지고 반복 처리\n",
    "# batch, epoch을 가지고 학습을 진행하도록!\n",
    "# 원래는 다 코드를 짜야 됨, 단 예제이기에 tensorflow에서 함수 제공해줌\n",
    "# mnist.train_next_batch(배치 사이즈)\n",
    "\n",
    "train_epoch = 30\n",
    "batch_size = 100\n",
    "\n",
    "\n",
    "for step in range(train_epoch):\n",
    "    num_of_iter = int(mnist.train.num_examples / batch_size)\n",
    "    cost_val = 0\n",
    "    \n",
    "    for i in range(num_of_iter):\n",
    "        batch_x, batch_y = mnist.train.next_batch(batch_size)\n",
    "        _, cost_val = sess.run([train, cost],\n",
    "                               feed_dict={X: batch_x,\n",
    "                                          Y: batch_y})\n",
    "    if step % 10 == 0:\n",
    "        print(f'cost값: {cost_val}')\n"
   ]
  },
  {
   "cell_type": "code",
   "execution_count": 17,
   "metadata": {},
   "outputs": [
    {
     "name": "stdout",
     "output_type": "stream",
     "text": [
      "정확도:0.9187999963760376\n"
     ]
    }
   ],
   "source": [
    "# 예측 전, 정확도 측정\n",
    "\n",
    "\n",
    "predict = tf.argmax(H,1)\n",
    "correct = tf.equal(predict, tf.argmax(Y,1))\n",
    "accuracy = tf.reduce_mean(tf.cast(correct, dtype=tf.float32))\n",
    "print(f'정확도:{sess.run(accuracy, feed_dict = {X: mnist.test.images, Y: mnist.test.labels})}')"
   ]
  },
  {
   "cell_type": "code",
   "execution_count": 61,
   "metadata": {},
   "outputs": [
    {
     "name": "stdout",
     "output_type": "stream",
     "text": [
      "숫자: 3\n",
      "숫자: [3]\n",
      "예측: [3]\n"
     ]
    },
    {
     "data": {
      "text/plain": [
       "<matplotlib.image.AxesImage at 0x2ba8bcf6fd0>"
      ]
     },
     "execution_count": 61,
     "metadata": {},
     "output_type": "execute_result"
    },
    {
     "data": {
      "image/png": "[encoded data removed]",
      "text/plain": [
       "<Figure size 432x288 with 1 Axes>"
      ]
     },
     "metadata": {
      "needs_background": "light"
     },
     "output_type": "display_data"
    }
   ],
   "source": [
    "# prediction\n",
    "\n",
    "\n",
    "# 랜덤으로 하나의 데이터를 추출해서 이를 가지고 prediction을 한 후 결과를 비교하시오\n",
    "# 랜덤으로 몇번째 행을 난수 값으로 불러오는 것: 행번호\n",
    "r = np.random.randint(0, mnist.test.num_examples)\n",
    "\n",
    "\n",
    "# 난수가 의미하는 행의 실제label값을 먼저 구해보아요\n",
    "# mnist.test.labels[r] : 어떤 수인지 one hot encoding으로 나타냄\n",
    "sess.run(tf.argmax(mnist.test.labels[r]))\n",
    "print(f'숫자: {sess.run(tf.argmax(mnist.test.labels[r]))}')\n",
    "# 이때, mnist.test.labels[r]로 뽑아온 행은 1차원으로 나옴. 따라서 axis=1 설정하면 오류\n",
    "# 설정 안하면 axis=0으로 default 잡힘, 혹은 axis=0으로 직접 설정해주면 됨\n",
    "# 그리고 tf.argmax는 tf, 즉 node이기에 sess.run으로 실행시켜줘야 함\n",
    "\n",
    "# axis 설정하려고 한다면 2차원으로 뽑아와야 됨: 구간을 설정해주면 됨\n",
    "sess.run(tf.argmax(mnist.test.labels[r:r+1], axis=1))\n",
    "print(f'숫자: {sess.run(tf.argmax(mnist.test.labels[r:r+1], axis=1))}')\n",
    "\n",
    "# 예측해보기\n",
    "sess.run(tf.argmax(H,1),\n",
    "        feed_dict = {X: mnist.test.images[r:r+1]})\n",
    "print(f'예측: {sess.run(tf.argmax(H,1),feed_dict = {X: mnist.test.images[r:r+1]})}')\n",
    "             \n",
    "# 우리 모델은 90퍼의 정확성을 가지기 때문에 10에 1은 잘못 예측한다.\n",
    "\n",
    "# 숫자가 아닌 이미지로 불러오려고 한다.\n",
    "# 값을 가져와서 28*28 픽셀 형태로 reshape\n",
    "result = mnist.test.images[r:r+1].reshape(28,28)             \n",
    "# plt.imshow( ) 함수 사용\n",
    "plt.imshow(result, cmap='gray')\n"
   ]
  },
  {
   "cell_type": "code",
   "execution_count": null,
   "metadata": {},
   "outputs": [],
   "source": [
    "# 이를 다 끝냈다면, kaggle에 가서 진행\n",
    "# 데이터 불러오기부터 전처리, 배치 등 모두 다 진행해줘야 함\n",
    "# 지금은 90%지만 앞으로 배우는 것들을 다 업뎃(딥러닝)하면서 99퍼센트로 만들 것"
   ]
  }
 ],
 "metadata": {
  "kernelspec": {
   "display_name": "[CPU_ENV]",
   "language": "python",
   "name": "cpu_env"
  },
  "language_info": {
   "codemirror_mode": {
    "name": "ipython",
    "version": 3
   },
   "file_extension": ".py",
   "mimetype": "text/x-python",
   "name": "python",
   "nbconvert_exporter": "python",
   "pygments_lexer": "ipython3",
   "version": "3.6.9"
  }
 },
 "nbformat": 4,
 "nbformat_minor": 2
}
